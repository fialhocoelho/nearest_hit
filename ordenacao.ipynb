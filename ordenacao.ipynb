{
 "cells": [
  {
   "cell_type": "code",
   "execution_count": 101,
   "metadata": {},
   "outputs": [],
   "source": [
    "from sklearn.neighbors import KDTree\n",
    "import pandas as pd\n",
    "import numpy as np\n",
    "import timeit\n",
    "from scipy.spatial import distance\n",
    "from sklearn.cluster import AgglomerativeClustering\n",
    "from sklearn.metrics import pairwise_distances\n",
    "from sklearn.metrics import pairwise_distances_argmin"
   ]
  },
  {
   "cell_type": "markdown",
   "metadata": {},
   "source": [
    "# KDTree"
   ]
  },
  {
   "cell_type": "code",
   "execution_count": 162,
   "metadata": {},
   "outputs": [],
   "source": [
    "pred_hit = np.array([[13,-28,12.78]])"
   ]
  },
  {
   "cell_type": "code",
   "execution_count": 13,
   "metadata": {},
   "outputs": [],
   "source": [
    "bag = pd.read_csv(\"/data/track-ml/bracis/datasets/bag_test.bag.csv\", names=[\"x\",\"y\",\"z\"], header=None)"
   ]
  },
  {
   "cell_type": "code",
   "execution_count": 97,
   "metadata": {},
   "outputs": [
    {
     "data": {
      "text/html": [
       "<div>\n",
       "<style scoped>\n",
       "    .dataframe tbody tr th:only-of-type {\n",
       "        vertical-align: middle;\n",
       "    }\n",
       "\n",
       "    .dataframe tbody tr th {\n",
       "        vertical-align: top;\n",
       "    }\n",
       "\n",
       "    .dataframe thead th {\n",
       "        text-align: right;\n",
       "    }\n",
       "</style>\n",
       "<table border=\"1\" class=\"dataframe\">\n",
       "  <thead>\n",
       "    <tr style=\"text-align: right;\">\n",
       "      <th></th>\n",
       "      <th>x</th>\n",
       "      <th>y</th>\n",
       "      <th>z</th>\n",
       "    </tr>\n",
       "  </thead>\n",
       "  <tbody>\n",
       "    <tr>\n",
       "      <th>0</th>\n",
       "      <td>13.880900</td>\n",
       "      <td>-28.452400</td>\n",
       "      <td>12.782100</td>\n",
       "    </tr>\n",
       "    <tr>\n",
       "      <th>1</th>\n",
       "      <td>31.948000</td>\n",
       "      <td>-64.647202</td>\n",
       "      <td>29.190100</td>\n",
       "    </tr>\n",
       "    <tr>\n",
       "      <th>2</th>\n",
       "      <td>51.642899</td>\n",
       "      <td>-102.942001</td>\n",
       "      <td>46.637100</td>\n",
       "    </tr>\n",
       "    <tr>\n",
       "      <th>3</th>\n",
       "      <td>78.363403</td>\n",
       "      <td>-153.121994</td>\n",
       "      <td>69.608597</td>\n",
       "    </tr>\n",
       "    <tr>\n",
       "      <th>4</th>\n",
       "      <td>119.526001</td>\n",
       "      <td>-226.973999</td>\n",
       "      <td>103.599998</td>\n",
       "    </tr>\n",
       "    <tr>\n",
       "      <th>...</th>\n",
       "      <td>...</td>\n",
       "      <td>...</td>\n",
       "      <td>...</td>\n",
       "    </tr>\n",
       "    <tr>\n",
       "      <th>299995</th>\n",
       "      <td>238.214996</td>\n",
       "      <td>-271.295990</td>\n",
       "      <td>-10.200000</td>\n",
       "    </tr>\n",
       "    <tr>\n",
       "      <th>299996</th>\n",
       "      <td>317.265991</td>\n",
       "      <td>-392.298004</td>\n",
       "      <td>-10.800000</td>\n",
       "    </tr>\n",
       "    <tr>\n",
       "      <th>299997</th>\n",
       "      <td>394.248993</td>\n",
       "      <td>-533.853027</td>\n",
       "      <td>-11.400000</td>\n",
       "    </tr>\n",
       "    <tr>\n",
       "      <th>299998</th>\n",
       "      <td>457.937012</td>\n",
       "      <td>-680.596985</td>\n",
       "      <td>-16.200001</td>\n",
       "    </tr>\n",
       "    <tr>\n",
       "      <th>299999</th>\n",
       "      <td>521.364014</td>\n",
       "      <td>-881.719971</td>\n",
       "      <td>-16.200001</td>\n",
       "    </tr>\n",
       "  </tbody>\n",
       "</table>\n",
       "<p>300000 rows × 3 columns</p>\n",
       "</div>"
      ],
      "text/plain": [
       "                 x           y           z\n",
       "0        13.880900  -28.452400   12.782100\n",
       "1        31.948000  -64.647202   29.190100\n",
       "2        51.642899 -102.942001   46.637100\n",
       "3        78.363403 -153.121994   69.608597\n",
       "4       119.526001 -226.973999  103.599998\n",
       "...            ...         ...         ...\n",
       "299995  238.214996 -271.295990  -10.200000\n",
       "299996  317.265991 -392.298004  -10.800000\n",
       "299997  394.248993 -533.853027  -11.400000\n",
       "299998  457.937012 -680.596985  -16.200001\n",
       "299999  521.364014 -881.719971  -16.200001\n",
       "\n",
       "[300000 rows x 3 columns]"
      ]
     },
     "execution_count": 97,
     "metadata": {},
     "output_type": "execute_result"
    }
   ],
   "source": [
    "bag"
   ]
  },
  {
   "cell_type": "code",
   "execution_count": 98,
   "metadata": {},
   "outputs": [],
   "source": [
    "bag_kdtree = bag.copy()"
   ]
  },
  {
   "cell_type": "code",
   "execution_count": 244,
   "metadata": {},
   "outputs": [],
   "source": [
    "def kdtree(X=bag_kdtree,pred_hit=pred_hit, k=5, silent = True,leaf_size=3):\n",
    "    tree = KDTree(X, leaf_size=leaf_size)\n",
    "    dist, ind = tree.query(pred_hit, k=k)\n",
    "    if silent is False:\n",
    "        print(ind)  # indices of 5 closest neighbors\n",
    "        print(dist)  # distances to 5 closest neighbors"
   ]
  },
  {
   "cell_type": "code",
   "execution_count": 239,
   "metadata": {},
   "outputs": [
    {
     "name": "stdout",
     "output_type": "stream",
     "text": [
      "[[277180  40000 224700  60420      0]]\n",
      "[[0.86324439 0.91806988 0.96723332 0.98760924 0.99028069]]\n"
     ]
    }
   ],
   "source": [
    "kdtree(bag_kdtree,pred_hit,silent = False)"
   ]
  },
  {
   "cell_type": "code",
   "execution_count": 142,
   "metadata": {},
   "outputs": [
    {
     "data": {
      "text/plain": [
       "x    12.8435\n",
       "y   -28.8151\n",
       "z    13.0173\n",
       "Name: 277180, dtype: float64"
      ]
     },
     "execution_count": 142,
     "metadata": {},
     "output_type": "execute_result"
    }
   ],
   "source": [
    "bag.iloc[277180,:]"
   ]
  },
  {
   "cell_type": "code",
   "execution_count": 143,
   "metadata": {},
   "outputs": [
    {
     "name": "stdout",
     "output_type": "stream",
     "text": [
      "24.927744856104255\n"
     ]
    }
   ],
   "source": [
    "n_runs = 100\n",
    "print(timeit.timeit(kdtree, number=n_runs))"
   ]
  },
  {
   "cell_type": "code",
   "execution_count": 55,
   "metadata": {},
   "outputs": [
    {
     "data": {
      "text/plain": [
       "array([[ 13.88090038, -28.45240021,  12.78209972]])"
      ]
     },
     "execution_count": 55,
     "metadata": {},
     "output_type": "execute_result"
    }
   ],
   "source": [
    "X[:1].values"
   ]
  },
  {
   "cell_type": "code",
   "execution_count": 56,
   "metadata": {},
   "outputs": [
    {
     "data": {
      "text/plain": [
       "[277180, 40000, 224700, 60420, 0, 31300, 131490, 23860, 142390, 94450]"
      ]
     },
     "execution_count": 56,
     "metadata": {},
     "output_type": "execute_result"
    }
   ],
   "source": [
    "list_indexes = []\n",
    "for i in range(ind.shape[1]): list_indexes.append(ind[0,i])\n",
    "list_indexes"
   ]
  },
  {
   "cell_type": "code",
   "execution_count": 58,
   "metadata": {},
   "outputs": [
    {
     "data": {
      "text/html": [
       "<div>\n",
       "<style scoped>\n",
       "    .dataframe tbody tr th:only-of-type {\n",
       "        vertical-align: middle;\n",
       "    }\n",
       "\n",
       "    .dataframe tbody tr th {\n",
       "        vertical-align: top;\n",
       "    }\n",
       "\n",
       "    .dataframe thead th {\n",
       "        text-align: right;\n",
       "    }\n",
       "</style>\n",
       "<table border=\"1\" class=\"dataframe\">\n",
       "  <thead>\n",
       "    <tr style=\"text-align: right;\">\n",
       "      <th></th>\n",
       "      <th>x</th>\n",
       "      <th>y</th>\n",
       "      <th>z</th>\n",
       "    </tr>\n",
       "  </thead>\n",
       "  <tbody>\n",
       "    <tr>\n",
       "      <th>277180</th>\n",
       "      <td>12.8435</td>\n",
       "      <td>-28.815100</td>\n",
       "      <td>13.0173</td>\n",
       "    </tr>\n",
       "    <tr>\n",
       "      <th>40000</th>\n",
       "      <td>12.7840</td>\n",
       "      <td>-28.835899</td>\n",
       "      <td>12.4678</td>\n",
       "    </tr>\n",
       "    <tr>\n",
       "      <th>224700</th>\n",
       "      <td>13.2135</td>\n",
       "      <td>-28.685699</td>\n",
       "      <td>12.1321</td>\n",
       "    </tr>\n",
       "    <tr>\n",
       "      <th>60420</th>\n",
       "      <td>13.7393</td>\n",
       "      <td>-28.501900</td>\n",
       "      <td>12.3594</td>\n",
       "    </tr>\n",
       "    <tr>\n",
       "      <th>0</th>\n",
       "      <td>13.8809</td>\n",
       "      <td>-28.452400</td>\n",
       "      <td>12.7821</td>\n",
       "    </tr>\n",
       "    <tr>\n",
       "      <th>31300</th>\n",
       "      <td>12.5594</td>\n",
       "      <td>-28.914400</td>\n",
       "      <td>12.8116</td>\n",
       "    </tr>\n",
       "    <tr>\n",
       "      <th>131490</th>\n",
       "      <td>13.0785</td>\n",
       "      <td>-28.732901</td>\n",
       "      <td>13.6404</td>\n",
       "    </tr>\n",
       "    <tr>\n",
       "      <th>23860</th>\n",
       "      <td>12.4650</td>\n",
       "      <td>-28.947399</td>\n",
       "      <td>12.2908</td>\n",
       "    </tr>\n",
       "    <tr>\n",
       "      <th>142390</th>\n",
       "      <td>13.0785</td>\n",
       "      <td>-28.732901</td>\n",
       "      <td>11.7930</td>\n",
       "    </tr>\n",
       "    <tr>\n",
       "      <th>94450</th>\n",
       "      <td>12.3706</td>\n",
       "      <td>-28.980400</td>\n",
       "      <td>13.3609</td>\n",
       "    </tr>\n",
       "  </tbody>\n",
       "</table>\n",
       "</div>"
      ],
      "text/plain": [
       "              x          y        z\n",
       "277180  12.8435 -28.815100  13.0173\n",
       "40000   12.7840 -28.835899  12.4678\n",
       "224700  13.2135 -28.685699  12.1321\n",
       "60420   13.7393 -28.501900  12.3594\n",
       "0       13.8809 -28.452400  12.7821\n",
       "31300   12.5594 -28.914400  12.8116\n",
       "131490  13.0785 -28.732901  13.6404\n",
       "23860   12.4650 -28.947399  12.2908\n",
       "142390  13.0785 -28.732901  11.7930\n",
       "94450   12.3706 -28.980400  13.3609"
      ]
     },
     "execution_count": 58,
     "metadata": {},
     "output_type": "execute_result"
    }
   ],
   "source": [
    "X.iloc[list_indexes,:]"
   ]
  },
  {
   "cell_type": "code",
   "execution_count": 62,
   "metadata": {},
   "outputs": [
    {
     "name": "stdout",
     "output_type": "stream",
     "text": [
      "0.8632443913689571\n",
      "0.9180698826076227\n",
      "0.9672333155721109\n",
      "0.9876092426954545\n",
      "0.9902806881716024\n",
      "1.0155071616955493\n",
      "1.1329578898619017\n",
      "1.1929402807827183\n",
      "1.2318579865310324\n",
      "1.301834755079246\n"
     ]
    }
   ],
   "source": [
    "for i in list_indexes:\n",
    "    print(np.sqrt((X.loc[i,\"x\"] - pred_hit[0,0])**2 + \n",
    "                  (X.loc[i,\"y\"] - pred_hit[0,1])**2 + \n",
    "                  (X.loc[i,\"z\"] - pred_hit[0,2])**2))"
   ]
  },
  {
   "cell_type": "code",
   "execution_count": 59,
   "metadata": {},
   "outputs": [
    {
     "name": "stdout",
     "output_type": "stream",
     "text": [
      "[[0.86324439 0.91806988 0.96723332 0.98760924 0.99028069 1.01550716\n",
      "  1.13295789 1.19294028 1.23185799 1.30183476]]\n"
     ]
    }
   ],
   "source": [
    "print(dist)"
   ]
  },
  {
   "cell_type": "markdown",
   "metadata": {},
   "source": [
    "# Sort and min"
   ]
  },
  {
   "cell_type": "code",
   "execution_count": 104,
   "metadata": {},
   "outputs": [],
   "source": [
    "bag_dist_min = bag.copy()"
   ]
  },
  {
   "cell_type": "code",
   "execution_count": 122,
   "metadata": {},
   "outputs": [],
   "source": [
    "def dist_min_serial(X=bag_dist_min,pred_hit=pred_hit, k=5, silent=True):\n",
    "    dist = distance.cdist(X, pred_hit, 'sqeuclidean')\n",
    "    ind = np.argmin(dist)\n",
    "    if silent is False:\n",
    "        print(ind)\n",
    "        print(bag.iloc[ind,:])\n",
    "        #print(ind)  # indices of 5 closest neighbor"
   ]
  },
  {
   "cell_type": "code",
   "execution_count": 130,
   "metadata": {},
   "outputs": [],
   "source": [
    "def dist_min_parallel(X=bag_dist_min,pred_hit=pred_hit, k=5, silent=True):\n",
    "    dist = pairwise_distances_argmin(X, pred_hit, metric = 'sqeuclidean')\n",
    "    ind = np.argmin(dist)\n",
    "    if silent is False:\n",
    "        print(ind)\n",
    "        print(bag.iloc[ind,:])\n",
    "        #print(ind)  # indices of 5 closest neighbor"
   ]
  },
  {
   "cell_type": "code",
   "execution_count": 188,
   "metadata": {},
   "outputs": [
    {
     "name": "stdout",
     "output_type": "stream",
     "text": [
      "277180\n",
      "x    12.8435\n",
      "y   -28.8151\n",
      "z    13.0173\n",
      "Name: 277180, dtype: float64\n"
     ]
    }
   ],
   "source": [
    "dist_min_serial(silent=False)"
   ]
  },
  {
   "cell_type": "code",
   "execution_count": 137,
   "metadata": {},
   "outputs": [
    {
     "name": "stdout",
     "output_type": "stream",
     "text": [
      "0.2630734834820032\n"
     ]
    }
   ],
   "source": [
    "n_runs = 100\n",
    "print(timeit.timeit(dist_min_serial, number=n_runs))"
   ]
  },
  {
   "cell_type": "code",
   "execution_count": 138,
   "metadata": {},
   "outputs": [
    {
     "name": "stdout",
     "output_type": "stream",
     "text": [
      "0.6601543668657541\n"
     ]
    }
   ],
   "source": [
    "n_runs = 100\n",
    "print(timeit.timeit(dist_min_parallel, number=n_runs))"
   ]
  },
  {
   "cell_type": "markdown",
   "metadata": {},
   "source": [
    "# DBSCAN"
   ]
  },
  {
   "cell_type": "code",
   "execution_count": 173,
   "metadata": {},
   "outputs": [],
   "source": [
    "origin_hit = np.array([[0,0,0]])\n",
    "\n",
    "bag_tb_ordered = bag.copy()\n",
    "dist = distance.cdist(bag_tb_ordered, origin_hit, 'sqeuclidean')"
   ]
  },
  {
   "cell_type": "code",
   "execution_count": 174,
   "metadata": {},
   "outputs": [],
   "source": [
    "bag_tb_ordered[\"dist\"] = dist"
   ]
  },
  {
   "cell_type": "code",
   "execution_count": 175,
   "metadata": {},
   "outputs": [
    {
     "data": {
      "text/html": [
       "<div>\n",
       "<style scoped>\n",
       "    .dataframe tbody tr th:only-of-type {\n",
       "        vertical-align: middle;\n",
       "    }\n",
       "\n",
       "    .dataframe tbody tr th {\n",
       "        vertical-align: top;\n",
       "    }\n",
       "\n",
       "    .dataframe thead th {\n",
       "        text-align: right;\n",
       "    }\n",
       "</style>\n",
       "<table border=\"1\" class=\"dataframe\">\n",
       "  <thead>\n",
       "    <tr style=\"text-align: right;\">\n",
       "      <th></th>\n",
       "      <th>x</th>\n",
       "      <th>y</th>\n",
       "      <th>z</th>\n",
       "      <th>dist</th>\n",
       "    </tr>\n",
       "  </thead>\n",
       "  <tbody>\n",
       "    <tr>\n",
       "      <th>0</th>\n",
       "      <td>13.880900</td>\n",
       "      <td>-28.452400</td>\n",
       "      <td>12.782100</td>\n",
       "      <td>1.165601e+03</td>\n",
       "    </tr>\n",
       "    <tr>\n",
       "      <th>1</th>\n",
       "      <td>31.948000</td>\n",
       "      <td>-64.647202</td>\n",
       "      <td>29.190100</td>\n",
       "      <td>6.051997e+03</td>\n",
       "    </tr>\n",
       "    <tr>\n",
       "      <th>2</th>\n",
       "      <td>51.642899</td>\n",
       "      <td>-102.942001</td>\n",
       "      <td>46.637100</td>\n",
       "      <td>1.543906e+04</td>\n",
       "    </tr>\n",
       "    <tr>\n",
       "      <th>3</th>\n",
       "      <td>78.363403</td>\n",
       "      <td>-153.121994</td>\n",
       "      <td>69.608597</td>\n",
       "      <td>3.443252e+04</td>\n",
       "    </tr>\n",
       "    <tr>\n",
       "      <th>4</th>\n",
       "      <td>119.526001</td>\n",
       "      <td>-226.973999</td>\n",
       "      <td>103.599998</td>\n",
       "      <td>7.653662e+04</td>\n",
       "    </tr>\n",
       "    <tr>\n",
       "      <th>...</th>\n",
       "      <td>...</td>\n",
       "      <td>...</td>\n",
       "      <td>...</td>\n",
       "      <td>...</td>\n",
       "    </tr>\n",
       "    <tr>\n",
       "      <th>299995</th>\n",
       "      <td>238.214996</td>\n",
       "      <td>-271.295990</td>\n",
       "      <td>-10.200000</td>\n",
       "      <td>1.304519e+05</td>\n",
       "    </tr>\n",
       "    <tr>\n",
       "      <th>299996</th>\n",
       "      <td>317.265991</td>\n",
       "      <td>-392.298004</td>\n",
       "      <td>-10.800000</td>\n",
       "      <td>2.546721e+05</td>\n",
       "    </tr>\n",
       "    <tr>\n",
       "      <th>299997</th>\n",
       "      <td>394.248993</td>\n",
       "      <td>-533.853027</td>\n",
       "      <td>-11.400000</td>\n",
       "      <td>4.405613e+05</td>\n",
       "    </tr>\n",
       "    <tr>\n",
       "      <th>299998</th>\n",
       "      <td>457.937012</td>\n",
       "      <td>-680.596985</td>\n",
       "      <td>-16.200001</td>\n",
       "      <td>6.731810e+05</td>\n",
       "    </tr>\n",
       "    <tr>\n",
       "      <th>299999</th>\n",
       "      <td>521.364014</td>\n",
       "      <td>-881.719971</td>\n",
       "      <td>-16.200001</td>\n",
       "      <td>1.049513e+06</td>\n",
       "    </tr>\n",
       "  </tbody>\n",
       "</table>\n",
       "<p>300000 rows × 4 columns</p>\n",
       "</div>"
      ],
      "text/plain": [
       "                 x           y           z          dist\n",
       "0        13.880900  -28.452400   12.782100  1.165601e+03\n",
       "1        31.948000  -64.647202   29.190100  6.051997e+03\n",
       "2        51.642899 -102.942001   46.637100  1.543906e+04\n",
       "3        78.363403 -153.121994   69.608597  3.443252e+04\n",
       "4       119.526001 -226.973999  103.599998  7.653662e+04\n",
       "...            ...         ...         ...           ...\n",
       "299995  238.214996 -271.295990  -10.200000  1.304519e+05\n",
       "299996  317.265991 -392.298004  -10.800000  2.546721e+05\n",
       "299997  394.248993 -533.853027  -11.400000  4.405613e+05\n",
       "299998  457.937012 -680.596985  -16.200001  6.731810e+05\n",
       "299999  521.364014 -881.719971  -16.200001  1.049513e+06\n",
       "\n",
       "[300000 rows x 4 columns]"
      ]
     },
     "execution_count": 175,
     "metadata": {},
     "output_type": "execute_result"
    }
   ],
   "source": [
    "bag_tb_ordered"
   ]
  },
  {
   "cell_type": "code",
   "execution_count": 180,
   "metadata": {},
   "outputs": [],
   "source": [
    "bag_ordered = bag_tb_ordered.sort_values(by=['dist'])"
   ]
  },
  {
   "cell_type": "code",
   "execution_count": 186,
   "metadata": {},
   "outputs": [
    {
     "data": {
      "text/plain": [
       "array([[1116.3284]])"
      ]
     },
     "execution_count": 186,
     "metadata": {},
     "output_type": "execute_result"
    }
   ],
   "source": [
    "dist_pred = distance.cdist(pred_hit, origin_hit, 'sqeuclidean')\n",
    "dist_pred"
   ]
  },
  {
   "cell_type": "code",
   "execution_count": 228,
   "metadata": {},
   "outputs": [
    {
     "data": {
      "text/html": [
       "<div>\n",
       "<style scoped>\n",
       "    .dataframe tbody tr th:only-of-type {\n",
       "        vertical-align: middle;\n",
       "    }\n",
       "\n",
       "    .dataframe tbody tr th {\n",
       "        vertical-align: top;\n",
       "    }\n",
       "\n",
       "    .dataframe thead th {\n",
       "        text-align: right;\n",
       "    }\n",
       "</style>\n",
       "<table border=\"1\" class=\"dataframe\">\n",
       "  <thead>\n",
       "    <tr style=\"text-align: right;\">\n",
       "      <th></th>\n",
       "      <th>x</th>\n",
       "      <th>y</th>\n",
       "      <th>z</th>\n",
       "      <th>dist</th>\n",
       "    </tr>\n",
       "  </thead>\n",
       "  <tbody>\n",
       "    <tr>\n",
       "      <th>0</th>\n",
       "      <td>13.880900</td>\n",
       "      <td>-28.452400</td>\n",
       "      <td>12.78210</td>\n",
       "      <td>1165.600546</td>\n",
       "    </tr>\n",
       "    <tr>\n",
       "      <th>50</th>\n",
       "      <td>-32.281700</td>\n",
       "      <td>-2.928450</td>\n",
       "      <td>10.48750</td>\n",
       "      <td>1160.671644</td>\n",
       "    </tr>\n",
       "    <tr>\n",
       "      <th>80</th>\n",
       "      <td>3.086110</td>\n",
       "      <td>31.811100</td>\n",
       "      <td>-10.08080</td>\n",
       "      <td>1123.092689</td>\n",
       "    </tr>\n",
       "    <tr>\n",
       "      <th>130</th>\n",
       "      <td>-11.432900</td>\n",
       "      <td>-30.844400</td>\n",
       "      <td>3.86562</td>\n",
       "      <td>1097.031266</td>\n",
       "    </tr>\n",
       "    <tr>\n",
       "      <th>140</th>\n",
       "      <td>-4.485150</td>\n",
       "      <td>31.737400</td>\n",
       "      <td>8.75024</td>\n",
       "      <td>1103.945837</td>\n",
       "    </tr>\n",
       "    <tr>\n",
       "      <th>...</th>\n",
       "      <td>...</td>\n",
       "      <td>...</td>\n",
       "      <td>...</td>\n",
       "      <td>...</td>\n",
       "    </tr>\n",
       "    <tr>\n",
       "      <th>299780</th>\n",
       "      <td>31.540400</td>\n",
       "      <td>-7.886530</td>\n",
       "      <td>-10.37530</td>\n",
       "      <td>1164.641017</td>\n",
       "    </tr>\n",
       "    <tr>\n",
       "      <th>299870</th>\n",
       "      <td>-23.190500</td>\n",
       "      <td>21.440901</td>\n",
       "      <td>12.12060</td>\n",
       "      <td>1144.420468</td>\n",
       "    </tr>\n",
       "    <tr>\n",
       "      <th>299930</th>\n",
       "      <td>9.976400</td>\n",
       "      <td>30.926600</td>\n",
       "      <td>6.43096</td>\n",
       "      <td>1097.340370</td>\n",
       "    </tr>\n",
       "    <tr>\n",
       "      <th>299950</th>\n",
       "      <td>-25.031000</td>\n",
       "      <td>21.619101</td>\n",
       "      <td>-3.35938</td>\n",
       "      <td>1105.221911</td>\n",
       "    </tr>\n",
       "    <tr>\n",
       "      <th>299990</th>\n",
       "      <td>23.281799</td>\n",
       "      <td>-22.023100</td>\n",
       "      <td>-7.24063</td>\n",
       "      <td>1079.485834</td>\n",
       "    </tr>\n",
       "  </tbody>\n",
       "</table>\n",
       "<p>10000 rows × 4 columns</p>\n",
       "</div>"
      ],
      "text/plain": [
       "                x          y         z         dist\n",
       "0       13.880900 -28.452400  12.78210  1165.600546\n",
       "50     -32.281700  -2.928450  10.48750  1160.671644\n",
       "80       3.086110  31.811100 -10.08080  1123.092689\n",
       "130    -11.432900 -30.844400   3.86562  1097.031266\n",
       "140     -4.485150  31.737400   8.75024  1103.945837\n",
       "...           ...        ...       ...          ...\n",
       "299780  31.540400  -7.886530 -10.37530  1164.641017\n",
       "299870 -23.190500  21.440901  12.12060  1144.420468\n",
       "299930   9.976400  30.926600   6.43096  1097.340370\n",
       "299950 -25.031000  21.619101  -3.35938  1105.221911\n",
       "299990  23.281799 -22.023100  -7.24063  1079.485834\n",
       "\n",
       "[10000 rows x 4 columns]"
      ]
     },
     "execution_count": 228,
     "metadata": {},
     "output_type": "execute_result"
    }
   ],
   "source": [
    "bag_nearest = bag_ordered.iloc[(bag_ordered['dist']-1116.3284).abs().argsort()[:10000]].sort_index()\n",
    "bag_nearest\n",
    "#277180"
   ]
  },
  {
   "cell_type": "code",
   "execution_count": 229,
   "metadata": {},
   "outputs": [
    {
     "data": {
      "text/plain": [
       "True"
      ]
     },
     "execution_count": 229,
     "metadata": {},
     "output_type": "execute_result"
    }
   ],
   "source": [
    "277180 in bag_nearest.index.tolist()\n"
   ]
  },
  {
   "cell_type": "code",
   "execution_count": 238,
   "metadata": {},
   "outputs": [
    {
     "data": {
      "text/html": [
       "<div>\n",
       "<style scoped>\n",
       "    .dataframe tbody tr th:only-of-type {\n",
       "        vertical-align: middle;\n",
       "    }\n",
       "\n",
       "    .dataframe tbody tr th {\n",
       "        vertical-align: top;\n",
       "    }\n",
       "\n",
       "    .dataframe thead th {\n",
       "        text-align: right;\n",
       "    }\n",
       "</style>\n",
       "<table border=\"1\" class=\"dataframe\">\n",
       "  <thead>\n",
       "    <tr style=\"text-align: right;\">\n",
       "      <th></th>\n",
       "      <th>x</th>\n",
       "      <th>y</th>\n",
       "      <th>z</th>\n",
       "      <th>dist</th>\n",
       "    </tr>\n",
       "  </thead>\n",
       "  <tbody>\n",
       "    <tr>\n",
       "      <th>277020</th>\n",
       "      <td>15.952700</td>\n",
       "      <td>27.211901</td>\n",
       "      <td>9.616500</td>\n",
       "      <td>1087.453237</td>\n",
       "    </tr>\n",
       "    <tr>\n",
       "      <th>277030</th>\n",
       "      <td>-21.390301</td>\n",
       "      <td>-23.990299</td>\n",
       "      <td>-10.383400</td>\n",
       "      <td>1140.894418</td>\n",
       "    </tr>\n",
       "    <tr>\n",
       "      <th>277070</th>\n",
       "      <td>-4.669450</td>\n",
       "      <td>-31.721800</td>\n",
       "      <td>-10.322700</td>\n",
       "      <td>1134.634473</td>\n",
       "    </tr>\n",
       "    <tr>\n",
       "      <th>277090</th>\n",
       "      <td>24.096300</td>\n",
       "      <td>20.960800</td>\n",
       "      <td>-10.950800</td>\n",
       "      <td>1139.906843</td>\n",
       "    </tr>\n",
       "    <tr>\n",
       "      <th>277120</th>\n",
       "      <td>2.898470</td>\n",
       "      <td>31.325800</td>\n",
       "      <td>10.644100</td>\n",
       "      <td>1103.003739</td>\n",
       "    </tr>\n",
       "    <tr>\n",
       "      <th>277150</th>\n",
       "      <td>-4.744000</td>\n",
       "      <td>-31.717600</td>\n",
       "      <td>-6.343370</td>\n",
       "      <td>1068.750019</td>\n",
       "    </tr>\n",
       "    <tr>\n",
       "      <th>277170</th>\n",
       "      <td>-2.617140</td>\n",
       "      <td>-31.837601</td>\n",
       "      <td>-10.926900</td>\n",
       "      <td>1139.879383</td>\n",
       "    </tr>\n",
       "    <tr>\n",
       "      <th>277180</th>\n",
       "      <td>12.843500</td>\n",
       "      <td>-28.815100</td>\n",
       "      <td>13.017300</td>\n",
       "      <td>1164.715558</td>\n",
       "    </tr>\n",
       "    <tr>\n",
       "      <th>277200</th>\n",
       "      <td>17.930700</td>\n",
       "      <td>-26.139000</td>\n",
       "      <td>11.872500</td>\n",
       "      <td>1145.713597</td>\n",
       "    </tr>\n",
       "    <tr>\n",
       "      <th>277290</th>\n",
       "      <td>-28.451300</td>\n",
       "      <td>14.521300</td>\n",
       "      <td>-10.183400</td>\n",
       "      <td>1124.046254</td>\n",
       "    </tr>\n",
       "    <tr>\n",
       "      <th>277300</th>\n",
       "      <td>18.014500</td>\n",
       "      <td>-26.727900</td>\n",
       "      <td>-5.367620</td>\n",
       "      <td>1067.714157</td>\n",
       "    </tr>\n",
       "    <tr>\n",
       "      <th>277320</th>\n",
       "      <td>-31.456400</td>\n",
       "      <td>9.374060</td>\n",
       "      <td>-4.669170</td>\n",
       "      <td>1099.179238</td>\n",
       "    </tr>\n",
       "    <tr>\n",
       "      <th>277360</th>\n",
       "      <td>29.916700</td>\n",
       "      <td>11.192800</td>\n",
       "      <td>-10.604000</td>\n",
       "      <td>1132.732541</td>\n",
       "    </tr>\n",
       "    <tr>\n",
       "      <th>277370</th>\n",
       "      <td>-21.461500</td>\n",
       "      <td>23.649099</td>\n",
       "      <td>-9.031600</td>\n",
       "      <td>1101.445688</td>\n",
       "    </tr>\n",
       "    <tr>\n",
       "      <th>277390</th>\n",
       "      <td>19.789000</td>\n",
       "      <td>-24.479099</td>\n",
       "      <td>8.703120</td>\n",
       "      <td>1066.575107</td>\n",
       "    </tr>\n",
       "    <tr>\n",
       "      <th>277400</th>\n",
       "      <td>18.968901</td>\n",
       "      <td>26.308100</td>\n",
       "      <td>-8.744950</td>\n",
       "      <td>1128.409461</td>\n",
       "    </tr>\n",
       "    <tr>\n",
       "      <th>277410</th>\n",
       "      <td>26.062300</td>\n",
       "      <td>-19.478901</td>\n",
       "      <td>-4.923870</td>\n",
       "      <td>1082.915544</td>\n",
       "    </tr>\n",
       "    <tr>\n",
       "      <th>277430</th>\n",
       "      <td>-19.144600</td>\n",
       "      <td>25.718500</td>\n",
       "      <td>-9.273180</td>\n",
       "      <td>1113.948823</td>\n",
       "    </tr>\n",
       "    <tr>\n",
       "      <th>277440</th>\n",
       "      <td>31.434799</td>\n",
       "      <td>-9.757160</td>\n",
       "      <td>-2.189660</td>\n",
       "      <td>1088.143387</td>\n",
       "    </tr>\n",
       "    <tr>\n",
       "      <th>277480</th>\n",
       "      <td>31.913900</td>\n",
       "      <td>5.480680</td>\n",
       "      <td>-4.990630</td>\n",
       "      <td>1073.441280</td>\n",
       "    </tr>\n",
       "    <tr>\n",
       "      <th>277520</th>\n",
       "      <td>26.629000</td>\n",
       "      <td>17.382099</td>\n",
       "      <td>9.265900</td>\n",
       "      <td>1097.097893</td>\n",
       "    </tr>\n",
       "    <tr>\n",
       "      <th>277530</th>\n",
       "      <td>27.907900</td>\n",
       "      <td>-15.648900</td>\n",
       "      <td>-11.909400</td>\n",
       "      <td>1165.572755</td>\n",
       "    </tr>\n",
       "    <tr>\n",
       "      <th>277560</th>\n",
       "      <td>11.684800</td>\n",
       "      <td>-29.744699</td>\n",
       "      <td>-8.879820</td>\n",
       "      <td>1100.132902</td>\n",
       "    </tr>\n",
       "    <tr>\n",
       "      <th>277570</th>\n",
       "      <td>-28.963900</td>\n",
       "      <td>-12.417800</td>\n",
       "      <td>10.026000</td>\n",
       "      <td>1093.629913</td>\n",
       "    </tr>\n",
       "    <tr>\n",
       "      <th>277610</th>\n",
       "      <td>31.601601</td>\n",
       "      <td>-6.800610</td>\n",
       "      <td>-10.009800</td>\n",
       "      <td>1145.105556</td>\n",
       "    </tr>\n",
       "    <tr>\n",
       "      <th>277640</th>\n",
       "      <td>-25.354099</td>\n",
       "      <td>20.948700</td>\n",
       "      <td>-3.049550</td>\n",
       "      <td>1090.978135</td>\n",
       "    </tr>\n",
       "    <tr>\n",
       "      <th>277670</th>\n",
       "      <td>31.957100</td>\n",
       "      <td>-0.498382</td>\n",
       "      <td>-8.153980</td>\n",
       "      <td>1087.992014</td>\n",
       "    </tr>\n",
       "    <tr>\n",
       "      <th>277690</th>\n",
       "      <td>31.141701</td>\n",
       "      <td>-6.163620</td>\n",
       "      <td>12.127000</td>\n",
       "      <td>1154.859862</td>\n",
       "    </tr>\n",
       "    <tr>\n",
       "      <th>277700</th>\n",
       "      <td>21.333000</td>\n",
       "      <td>25.168900</td>\n",
       "      <td>-5.424290</td>\n",
       "      <td>1117.993325</td>\n",
       "    </tr>\n",
       "    <tr>\n",
       "      <th>277760</th>\n",
       "      <td>-27.799101</td>\n",
       "      <td>15.874700</td>\n",
       "      <td>-9.805050</td>\n",
       "      <td>1120.935100</td>\n",
       "    </tr>\n",
       "    <tr>\n",
       "      <th>277780</th>\n",
       "      <td>28.606600</td>\n",
       "      <td>15.911300</td>\n",
       "      <td>-2.515630</td>\n",
       "      <td>1077.835405</td>\n",
       "    </tr>\n",
       "    <tr>\n",
       "      <th>277810</th>\n",
       "      <td>11.842600</td>\n",
       "      <td>29.742100</td>\n",
       "      <td>-10.246500</td>\n",
       "      <td>1129.830432</td>\n",
       "    </tr>\n",
       "    <tr>\n",
       "      <th>277820</th>\n",
       "      <td>-25.266100</td>\n",
       "      <td>21.131300</td>\n",
       "      <td>-5.595970</td>\n",
       "      <td>1116.222526</td>\n",
       "    </tr>\n",
       "    <tr>\n",
       "      <th>277830</th>\n",
       "      <td>-13.411500</td>\n",
       "      <td>-28.436501</td>\n",
       "      <td>10.968900</td>\n",
       "      <td>1108.819656</td>\n",
       "    </tr>\n",
       "    <tr>\n",
       "      <th>277850</th>\n",
       "      <td>-28.257099</td>\n",
       "      <td>-16.302500</td>\n",
       "      <td>-5.496880</td>\n",
       "      <td>1094.450842</td>\n",
       "    </tr>\n",
       "    <tr>\n",
       "      <th>277910</th>\n",
       "      <td>29.223301</td>\n",
       "      <td>13.176100</td>\n",
       "      <td>-8.362520</td>\n",
       "      <td>1097.542667</td>\n",
       "    </tr>\n",
       "    <tr>\n",
       "      <th>277920</th>\n",
       "      <td>16.434799</td>\n",
       "      <td>-27.475100</td>\n",
       "      <td>7.634370</td>\n",
       "      <td>1083.267324</td>\n",
       "    </tr>\n",
       "    <tr>\n",
       "      <th>277930</th>\n",
       "      <td>-9.403050</td>\n",
       "      <td>-31.454800</td>\n",
       "      <td>-0.434376</td>\n",
       "      <td>1078.010461</td>\n",
       "    </tr>\n",
       "    <tr>\n",
       "      <th>277940</th>\n",
       "      <td>31.051300</td>\n",
       "      <td>-7.765940</td>\n",
       "      <td>6.811530</td>\n",
       "      <td>1070.890004</td>\n",
       "    </tr>\n",
       "    <tr>\n",
       "      <th>277960</th>\n",
       "      <td>31.417101</td>\n",
       "      <td>-10.071300</td>\n",
       "      <td>-4.203130</td>\n",
       "      <td>1106.131604</td>\n",
       "    </tr>\n",
       "    <tr>\n",
       "      <th>277990</th>\n",
       "      <td>-28.699499</td>\n",
       "      <td>-15.063900</td>\n",
       "      <td>4.092390</td>\n",
       "      <td>1067.329990</td>\n",
       "    </tr>\n",
       "    <tr>\n",
       "      <th>278020</th>\n",
       "      <td>30.329201</td>\n",
       "      <td>10.013000</td>\n",
       "      <td>-7.678330</td>\n",
       "      <td>1079.077328</td>\n",
       "    </tr>\n",
       "    <tr>\n",
       "      <th>278050</th>\n",
       "      <td>-31.612600</td>\n",
       "      <td>-6.342320</td>\n",
       "      <td>-7.746880</td>\n",
       "      <td>1099.595673</td>\n",
       "    </tr>\n",
       "    <tr>\n",
       "      <th>278070</th>\n",
       "      <td>-32.480701</td>\n",
       "      <td>-3.859600</td>\n",
       "      <td>-1.337470</td>\n",
       "      <td>1071.681305</td>\n",
       "    </tr>\n",
       "    <tr>\n",
       "      <th>278080</th>\n",
       "      <td>-6.064870</td>\n",
       "      <td>31.185101</td>\n",
       "      <td>8.350280</td>\n",
       "      <td>1079.020316</td>\n",
       "    </tr>\n",
       "    <tr>\n",
       "      <th>278100</th>\n",
       "      <td>29.685400</td>\n",
       "      <td>11.854500</td>\n",
       "      <td>-10.956000</td>\n",
       "      <td>1141.786083</td>\n",
       "    </tr>\n",
       "    <tr>\n",
       "      <th>278140</th>\n",
       "      <td>20.484301</td>\n",
       "      <td>25.577801</td>\n",
       "      <td>-0.120802</td>\n",
       "      <td>1073.845056</td>\n",
       "    </tr>\n",
       "    <tr>\n",
       "      <th>278160</th>\n",
       "      <td>-12.403700</td>\n",
       "      <td>29.493401</td>\n",
       "      <td>-6.811360</td>\n",
       "      <td>1070.107071</td>\n",
       "    </tr>\n",
       "    <tr>\n",
       "      <th>278190</th>\n",
       "      <td>31.469000</td>\n",
       "      <td>-0.360306</td>\n",
       "      <td>10.895300</td>\n",
       "      <td>1109.135333</td>\n",
       "    </tr>\n",
       "    <tr>\n",
       "      <th>278200</th>\n",
       "      <td>-22.034500</td>\n",
       "      <td>22.473400</td>\n",
       "      <td>10.053100</td>\n",
       "      <td>1091.637721</td>\n",
       "    </tr>\n",
       "  </tbody>\n",
       "</table>\n",
       "</div>"
      ],
      "text/plain": [
       "                x          y          z         dist\n",
       "277020  15.952700  27.211901   9.616500  1087.453237\n",
       "277030 -21.390301 -23.990299 -10.383400  1140.894418\n",
       "277070  -4.669450 -31.721800 -10.322700  1134.634473\n",
       "277090  24.096300  20.960800 -10.950800  1139.906843\n",
       "277120   2.898470  31.325800  10.644100  1103.003739\n",
       "277150  -4.744000 -31.717600  -6.343370  1068.750019\n",
       "277170  -2.617140 -31.837601 -10.926900  1139.879383\n",
       "277180  12.843500 -28.815100  13.017300  1164.715558\n",
       "277200  17.930700 -26.139000  11.872500  1145.713597\n",
       "277290 -28.451300  14.521300 -10.183400  1124.046254\n",
       "277300  18.014500 -26.727900  -5.367620  1067.714157\n",
       "277320 -31.456400   9.374060  -4.669170  1099.179238\n",
       "277360  29.916700  11.192800 -10.604000  1132.732541\n",
       "277370 -21.461500  23.649099  -9.031600  1101.445688\n",
       "277390  19.789000 -24.479099   8.703120  1066.575107\n",
       "277400  18.968901  26.308100  -8.744950  1128.409461\n",
       "277410  26.062300 -19.478901  -4.923870  1082.915544\n",
       "277430 -19.144600  25.718500  -9.273180  1113.948823\n",
       "277440  31.434799  -9.757160  -2.189660  1088.143387\n",
       "277480  31.913900   5.480680  -4.990630  1073.441280\n",
       "277520  26.629000  17.382099   9.265900  1097.097893\n",
       "277530  27.907900 -15.648900 -11.909400  1165.572755\n",
       "277560  11.684800 -29.744699  -8.879820  1100.132902\n",
       "277570 -28.963900 -12.417800  10.026000  1093.629913\n",
       "277610  31.601601  -6.800610 -10.009800  1145.105556\n",
       "277640 -25.354099  20.948700  -3.049550  1090.978135\n",
       "277670  31.957100  -0.498382  -8.153980  1087.992014\n",
       "277690  31.141701  -6.163620  12.127000  1154.859862\n",
       "277700  21.333000  25.168900  -5.424290  1117.993325\n",
       "277760 -27.799101  15.874700  -9.805050  1120.935100\n",
       "277780  28.606600  15.911300  -2.515630  1077.835405\n",
       "277810  11.842600  29.742100 -10.246500  1129.830432\n",
       "277820 -25.266100  21.131300  -5.595970  1116.222526\n",
       "277830 -13.411500 -28.436501  10.968900  1108.819656\n",
       "277850 -28.257099 -16.302500  -5.496880  1094.450842\n",
       "277910  29.223301  13.176100  -8.362520  1097.542667\n",
       "277920  16.434799 -27.475100   7.634370  1083.267324\n",
       "277930  -9.403050 -31.454800  -0.434376  1078.010461\n",
       "277940  31.051300  -7.765940   6.811530  1070.890004\n",
       "277960  31.417101 -10.071300  -4.203130  1106.131604\n",
       "277990 -28.699499 -15.063900   4.092390  1067.329990\n",
       "278020  30.329201  10.013000  -7.678330  1079.077328\n",
       "278050 -31.612600  -6.342320  -7.746880  1099.595673\n",
       "278070 -32.480701  -3.859600  -1.337470  1071.681305\n",
       "278080  -6.064870  31.185101   8.350280  1079.020316\n",
       "278100  29.685400  11.854500 -10.956000  1141.786083\n",
       "278140  20.484301  25.577801  -0.120802  1073.845056\n",
       "278160 -12.403700  29.493401  -6.811360  1070.107071\n",
       "278190  31.469000  -0.360306  10.895300  1109.135333\n",
       "278200 -22.034500  22.473400  10.053100  1091.637721"
      ]
     },
     "execution_count": 238,
     "metadata": {},
     "output_type": "execute_result"
    }
   ],
   "source": [
    "\n",
    "bag_nearest.iloc[9250:9300,:]\n"
   ]
  },
  {
   "cell_type": "code",
   "execution_count": null,
   "metadata": {},
   "outputs": [],
   "source": [
    "def dist_min_serial(X=bag_dist_min,pred_hit=pred_hit, k=5, silent=True):\n",
    "    dist = distance.cdist(X, pred_hit, 'sqeuclidean')\n",
    "    ind = np.argmin(dist)\n",
    "    if silent is False:\n",
    "        print(ind)\n",
    "        print(bag.iloc[ind,:])\n",
    "        #print(ind)  # indices of 5 closest neighbor"
   ]
  },
  {
   "cell_type": "code",
   "execution_count": null,
   "metadata": {},
   "outputs": [],
   "source": []
  },
  {
   "cell_type": "markdown",
   "metadata": {},
   "source": [
    "# Nearest Centroid Classifier"
   ]
  },
  {
   "cell_type": "code",
   "execution_count": 247,
   "metadata": {},
   "outputs": [],
   "source": [
    "data = pd.read_csv(\"/data/track-ml/bracis/datasets/bag_test.bag.csv\", names=[\"x\",\"y\",\"z\"], header=None)\n",
    "\n",
    "origin_hit = np.array([[0,0,0]])\n",
    "\n",
    "dist = distance.cdist(data, origin_hit, 'sqeuclidean')\n",
    "data[\"dist\"] = dist"
   ]
  },
  {
   "cell_type": "code",
   "execution_count": 269,
   "metadata": {},
   "outputs": [],
   "source": []
  },
  {
   "cell_type": "code",
   "execution_count": 277,
   "metadata": {},
   "outputs": [
    {
     "name": "stdout",
     "output_type": "stream",
     "text": [
      "[20479]\n"
     ]
    }
   ],
   "source": [
    "from sklearn.neighbors import NearestCentroid\n",
    "import numpy as np\n",
    "from sklearn import preprocessing\n",
    "from sklearn import utils\n",
    "\n",
    "X, y = data.iloc[:,:-1],data.iloc[:,-1]\n",
    "\n",
    "lab_enc = preprocessing.LabelEncoder()\n",
    "y = lab_enc.fit_transform(y)\n",
    "\n",
    "clf = NearestCentroid()\n",
    "clf.fit(X, y)\n",
    "NearestCentroid()\n",
    "print(clf.predict(pred_hit))"
   ]
  },
  {
   "cell_type": "code",
   "execution_count": 278,
   "metadata": {},
   "outputs": [
    {
     "data": {
      "text/plain": [
       "array([ 20538,  54038,  82889, ..., 214710, 240835, 274211])"
      ]
     },
     "execution_count": 278,
     "metadata": {},
     "output_type": "execute_result"
    }
   ],
   "source": [
    "y"
   ]
  },
  {
   "cell_type": "code",
   "execution_count": null,
   "metadata": {},
   "outputs": [],
   "source": [
    " "
   ]
  }
 ],
 "metadata": {
  "kernelspec": {
   "display_name": "[Python3] Jeff ML Default",
   "language": "python",
   "name": "ml_default"
  },
  "language_info": {
   "codemirror_mode": {
    "name": "ipython",
    "version": 3
   },
   "file_extension": ".py",
   "mimetype": "text/x-python",
   "name": "python",
   "nbconvert_exporter": "python",
   "pygments_lexer": "ipython3",
   "version": "3.7.6"
  }
 },
 "nbformat": 4,
 "nbformat_minor": 4
}
